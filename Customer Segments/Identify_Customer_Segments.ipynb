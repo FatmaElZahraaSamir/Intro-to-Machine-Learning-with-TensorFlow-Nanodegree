{
 "cells": [
  {
   "cell_type": "markdown",
   "metadata": {},
   "source": [
    "# Project: Identify Customer Segments\n",
    "\n",
    "In this project, you will apply unsupervised learning techniques to identify segments of the population that form the core customer base for a mail-order sales company in Germany. These segments can then be used to direct marketing campaigns towards audiences that will have the highest expected rate of returns. The data that you will use has been provided by our partners at Bertelsmann Arvato Analytics, and represents a real-life data science task.\n",
    "\n",
    "This notebook will help you complete this task by providing a framework within which you will perform your analysis steps. In each step of the project, you will see some text describing the subtask that you will perform, followed by one or more code cells for you to complete your work. **Feel free to add additional code and markdown cells as you go along so that you can explore everything in precise chunks.** The code cells provided in the base template will outline only the major tasks, and will usually not be enough to cover all of the minor tasks that comprise it.\n",
    "\n",
    "It should be noted that while there will be precise guidelines on how you should handle certain tasks in the project, there will also be places where an exact specification is not provided. **There will be times in the project where you will need to make and justify your own decisions on how to treat the data.** These are places where there may not be only one way to handle the data. In real-life tasks, there may be many valid ways to approach an analysis task. One of the most important things you can do is clearly document your approach so that other scientists can understand the decisions you've made.\n",
    "\n",
    "At the end of most sections, there will be a Markdown cell labeled **Discussion**. In these cells, you will report your findings for the completed section, as well as document the decisions that you made in your approach to each subtask. **Your project will be evaluated not just on the code used to complete the tasks outlined, but also your communication about your observations and conclusions at each stage.**"
   ]
  },
  {
   "cell_type": "code",
   "execution_count": 2,
   "metadata": {},
   "outputs": [
    {
     "data": {
      "text/plain": [
       "'\\nImport note: The classroom currently uses sklearn version 0.19.\\nIf you need to use an imputer, it is available in sklearn.preprocessing.Imputer,\\ninstead of sklearn.impute as in newer versions of sklearn.\\n'"
      ]
     },
     "execution_count": 2,
     "metadata": {},
     "output_type": "execute_result"
    }
   ],
   "source": [
    "# import libraries here; add more as necessary\n",
    "import numpy as np\n",
    "import pandas as pd\n",
    "import matplotlib.pyplot as plt\n",
    "import seaborn as sns\n",
    "\n",
    "from sklearn.preprocessing import StandardScaler, Imputer\n",
    "from sklearn.decomposition import PCA\n",
    "from sklearn.cluster import KMeans\n",
    "\n",
    "# magic word for producing visualizations in notebook\n",
    "%matplotlib inline\n",
    "\n",
    "'''\n",
    "Import note: The classroom currently uses sklearn version 0.19.\n",
    "If you need to use an imputer, it is available in sklearn.preprocessing.Imputer,\n",
    "instead of sklearn.impute as in newer versions of sklearn.\n",
    "'''"
   ]
  },
  {
   "cell_type": "markdown",
   "metadata": {},
   "source": [
    "### Step 0: Load the Data\n",
    "\n",
    "There are four files associated with this project (not including this one):\n",
    "\n",
    "- `Udacity_AZDIAS_Subset.csv`: Demographics data for the general population of Germany; 891211 persons (rows) x 85 features (columns).\n",
    "- `Udacity_CUSTOMERS_Subset.csv`: Demographics data for customers of a mail-order company; 191652 persons (rows) x 85 features (columns).\n",
    "- `Data_Dictionary.md`: Detailed information file about the features in the provided datasets.\n",
    "- `AZDIAS_Feature_Summary.csv`: Summary of feature attributes for demographics data; 85 features (rows) x 4 columns\n",
    "\n",
    "Each row of the demographics files represents a single person, but also includes information outside of individuals, including information about their household, building, and neighborhood. You will use this information to cluster the general population into groups with similar demographic properties. Then, you will see how the people in the customers dataset fit into those created clusters. The hope here is that certain clusters are over-represented in the customers data, as compared to the general population; those over-represented clusters will be assumed to be part of the core userbase. This information can then be used for further applications, such as targeting for a marketing campaign.\n",
    "\n",
    "To start off with, load in the demographics data for the general population into a pandas DataFrame, and do the same for the feature attributes summary. Note for all of the `.csv` data files in this project: they're semicolon (`;`) delimited, so you'll need an additional argument in your [`read_csv()`](https://pandas.pydata.org/pandas-docs/stable/generated/pandas.read_csv.html) call to read in the data properly. Also, considering the size of the main dataset, it may take some time for it to load completely.\n",
    "\n",
    "Once the dataset is loaded, it's recommended that you take a little bit of time just browsing the general structure of the dataset and feature summary file. You'll be getting deep into the innards of the cleaning in the first major step of the project, so gaining some general familiarity can help you get your bearings."
   ]
  },
  {
   "cell_type": "code",
   "execution_count": 3,
   "metadata": {},
   "outputs": [],
   "source": [
    "# Load in the general demographics data.\n",
    "azdias = pd.read_csv('Udacity_AZDIAS_Subset.csv', sep=';')\n",
    "\n",
    "# Load in the feature summary file.\n",
    "feat_info = pd.read_csv('AZDIAS_Feature_Summary.csv',sep=';')"
   ]
  },
  {
   "cell_type": "code",
   "execution_count": 4,
   "metadata": {},
   "outputs": [
    {
     "data": {
      "text/html": [
       "<div>\n",
       "<style scoped>\n",
       "    .dataframe tbody tr th:only-of-type {\n",
       "        vertical-align: middle;\n",
       "    }\n",
       "\n",
       "    .dataframe tbody tr th {\n",
       "        vertical-align: top;\n",
       "    }\n",
       "\n",
       "    .dataframe thead th {\n",
       "        text-align: right;\n",
       "    }\n",
       "</style>\n",
       "<table border=\"1\" class=\"dataframe\">\n",
       "  <thead>\n",
       "    <tr style=\"text-align: right;\">\n",
       "      <th></th>\n",
       "      <th>AGER_TYP</th>\n",
       "      <th>ALTERSKATEGORIE_GROB</th>\n",
       "      <th>ANREDE_KZ</th>\n",
       "      <th>CJT_GESAMTTYP</th>\n",
       "      <th>FINANZ_MINIMALIST</th>\n",
       "      <th>FINANZ_SPARER</th>\n",
       "      <th>FINANZ_VORSORGER</th>\n",
       "      <th>FINANZ_ANLEGER</th>\n",
       "      <th>FINANZ_UNAUFFAELLIGER</th>\n",
       "      <th>FINANZ_HAUSBAUER</th>\n",
       "      <th>...</th>\n",
       "      <th>PLZ8_ANTG1</th>\n",
       "      <th>PLZ8_ANTG2</th>\n",
       "      <th>PLZ8_ANTG3</th>\n",
       "      <th>PLZ8_ANTG4</th>\n",
       "      <th>PLZ8_BAUMAX</th>\n",
       "      <th>PLZ8_HHZ</th>\n",
       "      <th>PLZ8_GBZ</th>\n",
       "      <th>ARBEIT</th>\n",
       "      <th>ORTSGR_KLS9</th>\n",
       "      <th>RELAT_AB</th>\n",
       "    </tr>\n",
       "  </thead>\n",
       "  <tbody>\n",
       "    <tr>\n",
       "      <th>0</th>\n",
       "      <td>-1</td>\n",
       "      <td>2</td>\n",
       "      <td>1</td>\n",
       "      <td>2.0</td>\n",
       "      <td>3</td>\n",
       "      <td>4</td>\n",
       "      <td>3</td>\n",
       "      <td>5</td>\n",
       "      <td>5</td>\n",
       "      <td>3</td>\n",
       "      <td>...</td>\n",
       "      <td>NaN</td>\n",
       "      <td>NaN</td>\n",
       "      <td>NaN</td>\n",
       "      <td>NaN</td>\n",
       "      <td>NaN</td>\n",
       "      <td>NaN</td>\n",
       "      <td>NaN</td>\n",
       "      <td>NaN</td>\n",
       "      <td>NaN</td>\n",
       "      <td>NaN</td>\n",
       "    </tr>\n",
       "    <tr>\n",
       "      <th>1</th>\n",
       "      <td>-1</td>\n",
       "      <td>1</td>\n",
       "      <td>2</td>\n",
       "      <td>5.0</td>\n",
       "      <td>1</td>\n",
       "      <td>5</td>\n",
       "      <td>2</td>\n",
       "      <td>5</td>\n",
       "      <td>4</td>\n",
       "      <td>5</td>\n",
       "      <td>...</td>\n",
       "      <td>2.0</td>\n",
       "      <td>3.0</td>\n",
       "      <td>2.0</td>\n",
       "      <td>1.0</td>\n",
       "      <td>1.0</td>\n",
       "      <td>5.0</td>\n",
       "      <td>4.0</td>\n",
       "      <td>3.0</td>\n",
       "      <td>5.0</td>\n",
       "      <td>4.0</td>\n",
       "    </tr>\n",
       "    <tr>\n",
       "      <th>2</th>\n",
       "      <td>-1</td>\n",
       "      <td>3</td>\n",
       "      <td>2</td>\n",
       "      <td>3.0</td>\n",
       "      <td>1</td>\n",
       "      <td>4</td>\n",
       "      <td>1</td>\n",
       "      <td>2</td>\n",
       "      <td>3</td>\n",
       "      <td>5</td>\n",
       "      <td>...</td>\n",
       "      <td>3.0</td>\n",
       "      <td>3.0</td>\n",
       "      <td>1.0</td>\n",
       "      <td>0.0</td>\n",
       "      <td>1.0</td>\n",
       "      <td>4.0</td>\n",
       "      <td>4.0</td>\n",
       "      <td>3.0</td>\n",
       "      <td>5.0</td>\n",
       "      <td>2.0</td>\n",
       "    </tr>\n",
       "    <tr>\n",
       "      <th>3</th>\n",
       "      <td>2</td>\n",
       "      <td>4</td>\n",
       "      <td>2</td>\n",
       "      <td>2.0</td>\n",
       "      <td>4</td>\n",
       "      <td>2</td>\n",
       "      <td>5</td>\n",
       "      <td>2</td>\n",
       "      <td>1</td>\n",
       "      <td>2</td>\n",
       "      <td>...</td>\n",
       "      <td>2.0</td>\n",
       "      <td>2.0</td>\n",
       "      <td>2.0</td>\n",
       "      <td>0.0</td>\n",
       "      <td>1.0</td>\n",
       "      <td>3.0</td>\n",
       "      <td>4.0</td>\n",
       "      <td>2.0</td>\n",
       "      <td>3.0</td>\n",
       "      <td>3.0</td>\n",
       "    </tr>\n",
       "    <tr>\n",
       "      <th>4</th>\n",
       "      <td>-1</td>\n",
       "      <td>3</td>\n",
       "      <td>1</td>\n",
       "      <td>5.0</td>\n",
       "      <td>4</td>\n",
       "      <td>3</td>\n",
       "      <td>4</td>\n",
       "      <td>1</td>\n",
       "      <td>3</td>\n",
       "      <td>2</td>\n",
       "      <td>...</td>\n",
       "      <td>2.0</td>\n",
       "      <td>4.0</td>\n",
       "      <td>2.0</td>\n",
       "      <td>1.0</td>\n",
       "      <td>2.0</td>\n",
       "      <td>3.0</td>\n",
       "      <td>3.0</td>\n",
       "      <td>4.0</td>\n",
       "      <td>6.0</td>\n",
       "      <td>5.0</td>\n",
       "    </tr>\n",
       "  </tbody>\n",
       "</table>\n",
       "<p>5 rows × 85 columns</p>\n",
       "</div>"
      ],
      "text/plain": [
       "   AGER_TYP  ALTERSKATEGORIE_GROB  ANREDE_KZ  CJT_GESAMTTYP  \\\n",
       "0        -1                     2          1            2.0   \n",
       "1        -1                     1          2            5.0   \n",
       "2        -1                     3          2            3.0   \n",
       "3         2                     4          2            2.0   \n",
       "4        -1                     3          1            5.0   \n",
       "\n",
       "   FINANZ_MINIMALIST  FINANZ_SPARER  FINANZ_VORSORGER  FINANZ_ANLEGER  \\\n",
       "0                  3              4                 3               5   \n",
       "1                  1              5                 2               5   \n",
       "2                  1              4                 1               2   \n",
       "3                  4              2                 5               2   \n",
       "4                  4              3                 4               1   \n",
       "\n",
       "   FINANZ_UNAUFFAELLIGER  FINANZ_HAUSBAUER    ...     PLZ8_ANTG1  PLZ8_ANTG2  \\\n",
       "0                      5                 3    ...            NaN         NaN   \n",
       "1                      4                 5    ...            2.0         3.0   \n",
       "2                      3                 5    ...            3.0         3.0   \n",
       "3                      1                 2    ...            2.0         2.0   \n",
       "4                      3                 2    ...            2.0         4.0   \n",
       "\n",
       "   PLZ8_ANTG3  PLZ8_ANTG4  PLZ8_BAUMAX  PLZ8_HHZ  PLZ8_GBZ  ARBEIT  \\\n",
       "0         NaN         NaN          NaN       NaN       NaN     NaN   \n",
       "1         2.0         1.0          1.0       5.0       4.0     3.0   \n",
       "2         1.0         0.0          1.0       4.0       4.0     3.0   \n",
       "3         2.0         0.0          1.0       3.0       4.0     2.0   \n",
       "4         2.0         1.0          2.0       3.0       3.0     4.0   \n",
       "\n",
       "   ORTSGR_KLS9  RELAT_AB  \n",
       "0          NaN       NaN  \n",
       "1          5.0       4.0  \n",
       "2          5.0       2.0  \n",
       "3          3.0       3.0  \n",
       "4          6.0       5.0  \n",
       "\n",
       "[5 rows x 85 columns]"
      ]
     },
     "execution_count": 4,
     "metadata": {},
     "output_type": "execute_result"
    }
   ],
   "source": [
    "# Check the structure of the data after it's loaded (e.g. print the number of\n",
    "# rows and columns, print the first few rows).\n",
    "\n",
    "azdias.head()\n"
   ]
  },
  {
   "cell_type": "code",
   "execution_count": 5,
   "metadata": {},
   "outputs": [
    {
     "data": {
      "text/html": [
       "<div>\n",
       "<style scoped>\n",
       "    .dataframe tbody tr th:only-of-type {\n",
       "        vertical-align: middle;\n",
       "    }\n",
       "\n",
       "    .dataframe tbody tr th {\n",
       "        vertical-align: top;\n",
       "    }\n",
       "\n",
       "    .dataframe thead th {\n",
       "        text-align: right;\n",
       "    }\n",
       "</style>\n",
       "<table border=\"1\" class=\"dataframe\">\n",
       "  <thead>\n",
       "    <tr style=\"text-align: right;\">\n",
       "      <th></th>\n",
       "      <th>attribute</th>\n",
       "      <th>information_level</th>\n",
       "      <th>type</th>\n",
       "      <th>missing_or_unknown</th>\n",
       "    </tr>\n",
       "  </thead>\n",
       "  <tbody>\n",
       "    <tr>\n",
       "      <th>0</th>\n",
       "      <td>AGER_TYP</td>\n",
       "      <td>person</td>\n",
       "      <td>categorical</td>\n",
       "      <td>[-1,0]</td>\n",
       "    </tr>\n",
       "    <tr>\n",
       "      <th>1</th>\n",
       "      <td>ALTERSKATEGORIE_GROB</td>\n",
       "      <td>person</td>\n",
       "      <td>ordinal</td>\n",
       "      <td>[-1,0,9]</td>\n",
       "    </tr>\n",
       "    <tr>\n",
       "      <th>2</th>\n",
       "      <td>ANREDE_KZ</td>\n",
       "      <td>person</td>\n",
       "      <td>categorical</td>\n",
       "      <td>[-1,0]</td>\n",
       "    </tr>\n",
       "    <tr>\n",
       "      <th>3</th>\n",
       "      <td>CJT_GESAMTTYP</td>\n",
       "      <td>person</td>\n",
       "      <td>categorical</td>\n",
       "      <td>[0]</td>\n",
       "    </tr>\n",
       "    <tr>\n",
       "      <th>4</th>\n",
       "      <td>FINANZ_MINIMALIST</td>\n",
       "      <td>person</td>\n",
       "      <td>ordinal</td>\n",
       "      <td>[-1]</td>\n",
       "    </tr>\n",
       "  </tbody>\n",
       "</table>\n",
       "</div>"
      ],
      "text/plain": [
       "              attribute information_level         type missing_or_unknown\n",
       "0              AGER_TYP            person  categorical             [-1,0]\n",
       "1  ALTERSKATEGORIE_GROB            person      ordinal           [-1,0,9]\n",
       "2             ANREDE_KZ            person  categorical             [-1,0]\n",
       "3         CJT_GESAMTTYP            person  categorical                [0]\n",
       "4     FINANZ_MINIMALIST            person      ordinal               [-1]"
      ]
     },
     "execution_count": 5,
     "metadata": {},
     "output_type": "execute_result"
    }
   ],
   "source": [
    "feat_info.head()\n"
   ]
  },
  {
   "cell_type": "code",
   "execution_count": 6,
   "metadata": {},
   "outputs": [
    {
     "data": {
      "text/html": [
       "<div>\n",
       "<style scoped>\n",
       "    .dataframe tbody tr th:only-of-type {\n",
       "        vertical-align: middle;\n",
       "    }\n",
       "\n",
       "    .dataframe tbody tr th {\n",
       "        vertical-align: top;\n",
       "    }\n",
       "\n",
       "    .dataframe thead th {\n",
       "        text-align: right;\n",
       "    }\n",
       "</style>\n",
       "<table border=\"1\" class=\"dataframe\">\n",
       "  <thead>\n",
       "    <tr style=\"text-align: right;\">\n",
       "      <th></th>\n",
       "      <th>attribute</th>\n",
       "      <th>information_level</th>\n",
       "      <th>type</th>\n",
       "      <th>missing_or_unknown</th>\n",
       "    </tr>\n",
       "  </thead>\n",
       "  <tbody>\n",
       "    <tr>\n",
       "      <th>count</th>\n",
       "      <td>85</td>\n",
       "      <td>85</td>\n",
       "      <td>85</td>\n",
       "      <td>85</td>\n",
       "    </tr>\n",
       "    <tr>\n",
       "      <th>unique</th>\n",
       "      <td>85</td>\n",
       "      <td>9</td>\n",
       "      <td>5</td>\n",
       "      <td>9</td>\n",
       "    </tr>\n",
       "    <tr>\n",
       "      <th>top</th>\n",
       "      <td>CAMEO_INTL_2015</td>\n",
       "      <td>person</td>\n",
       "      <td>ordinal</td>\n",
       "      <td>[-1]</td>\n",
       "    </tr>\n",
       "    <tr>\n",
       "      <th>freq</th>\n",
       "      <td>1</td>\n",
       "      <td>43</td>\n",
       "      <td>49</td>\n",
       "      <td>26</td>\n",
       "    </tr>\n",
       "  </tbody>\n",
       "</table>\n",
       "</div>"
      ],
      "text/plain": [
       "              attribute information_level     type missing_or_unknown\n",
       "count                85                85       85                 85\n",
       "unique               85                 9        5                  9\n",
       "top     CAMEO_INTL_2015            person  ordinal               [-1]\n",
       "freq                  1                43       49                 26"
      ]
     },
     "execution_count": 6,
     "metadata": {},
     "output_type": "execute_result"
    }
   ],
   "source": [
    "feat_info.describe()"
   ]
  },
  {
   "cell_type": "markdown",
   "metadata": {},
   "source": [
    "> **Tip**: Add additional cells to keep everything in reasonably-sized chunks! Keyboard shortcut `esc --> a` (press escape to enter command mode, then press the 'A' key) adds a new cell before the active cell, and `esc --> b` adds a new cell after the active cell. If you need to convert an active cell to a markdown cell, use `esc --> m` and to convert to a code cell, use `esc --> y`. \n",
    "\n",
    "## Step 1: Preprocessing\n",
    "\n",
    "### Step 1.1: Assess Missing Data\n",
    "\n",
    "The feature summary file contains a summary of properties for each demographics data column. You will use this file to help you make cleaning decisions during this stage of the project. First of all, you should assess the demographics data in terms of missing data. Pay attention to the following points as you perform your analysis, and take notes on what you observe. Make sure that you fill in the **Discussion** cell with your findings and decisions at the end of each step that has one!\n",
    "\n",
    "#### Step 1.1.1: Convert Missing Value Codes to NaNs\n",
    "The fourth column of the feature attributes summary (loaded in above as `feat_info`) documents the codes from the data dictionary that indicate missing or unknown data. While the file encodes this as a list (e.g. `[-1,0]`), this will get read in as a string object. You'll need to do a little bit of parsing to make use of it to identify and clean the data. Convert data that matches a 'missing' or 'unknown' value code into a numpy NaN value. You might want to see how much data takes on a 'missing' or 'unknown' code, and how much data is naturally missing, as a point of interest.\n",
    "\n",
    "**As one more reminder, you are encouraged to add additional cells to break up your analysis into manageable chunks.**"
   ]
  },
  {
   "cell_type": "code",
   "execution_count": 7,
   "metadata": {},
   "outputs": [],
   "source": [
    "feat_info['missing_or_unknown'] = feat_info['missing_or_unknown'].str.replace('[', '').str.replace(']', '').str.split(',')"
   ]
  },
  {
   "cell_type": "code",
   "execution_count": 8,
   "metadata": {},
   "outputs": [
    {
     "name": "stdout",
     "output_type": "stream",
     "text": [
      "Total missing values =  4896838\n"
     ]
    }
   ],
   "source": [
    "print(\"Total missing values = \",azdias.isnull().sum().sum())"
   ]
  },
  {
   "cell_type": "code",
   "execution_count": 9,
   "metadata": {},
   "outputs": [],
   "source": [
    "azdias_na = azdias.copy()\n",
    "\n",
    "for colname in feat_info.attribute:\n",
    "    na_map = feat_info.loc[feat_info.attribute == colname, 'missing_or_unknown'].iloc[0]\n",
    "    na_idx = azdias_na.loc[:, colname].isin(na_map)\n",
    "    azdias_na.loc[na_idx, colname] = np.nan"
   ]
  },
  {
   "cell_type": "code",
   "execution_count": 10,
   "metadata": {},
   "outputs": [
    {
     "name": "stdout",
     "output_type": "stream",
     "text": [
      "Total missing values =  8373929\n"
     ]
    }
   ],
   "source": [
    "print(\"Total missing values = \",azdias_na.isnull().sum().sum())"
   ]
  },
  {
   "cell_type": "markdown",
   "metadata": {},
   "source": [
    "#### Step 1.1.2: Assess Missing Data in Each Column\n",
    "\n",
    "How much missing data is present in each column? There are a few columns that are outliers in terms of the proportion of values that are missing. You will want to use matplotlib's [`hist()`](https://matplotlib.org/api/_as_gen/matplotlib.pyplot.hist.html) function to visualize the distribution of missing value counts to find these columns. Identify and document these columns. While some of these columns might have justifications for keeping or re-encoding the data, for this project you should just remove them from the dataframe. (Feel free to make remarks about these outlier columns in the discussion, however!)\n",
    "\n",
    "For the remaining features, are there any patterns in which columns have, or share, missing data?"
   ]
  },
  {
   "cell_type": "code",
   "execution_count": 11,
   "metadata": {},
   "outputs": [
    {
     "data": {
      "image/png": "[encoded data removed]",
      "text/plain": [
       "<matplotlib.figure.Figure at 0x7f2403d871d0>"
      ]
     },
     "metadata": {
      "needs_background": "light"
     },
     "output_type": "display_data"
    }
   ],
   "source": [
    "# Perform an assessment of how much missing data there is in each column of the\n",
    "# dataset.\n",
    "\n",
    "col_null = np.sum(pd.isnull(azdias_na), axis = 0)\n",
    "plt.hist(col_null / len(azdias_na), bins = 70)\n",
    "\n",
    "plt.title(\"Number of columns with % missing value\")\n",
    "plt.xlabel(\"% missing values\")\n",
    "plt.ylabel(\"Number of columns\")\n",
    "plt.show()\n"
   ]
  },
  {
   "cell_type": "code",
   "execution_count": 12,
   "metadata": {},
   "outputs": [
    {
     "data": {
      "text/plain": [
       "<matplotlib.axes._subplots.AxesSubplot at 0x7f24014c6b00>"
      ]
     },
     "execution_count": 12,
     "metadata": {},
     "output_type": "execute_result"
    },
    {
     "data": {
      "image/png": "[encoded data removed]",
      "text/plain": [
       "<matplotlib.figure.Figure at 0x7f2403d87d30>"
      ]
     },
     "metadata": {
      "needs_background": "light"
     },
     "output_type": "display_data"
    }
   ],
   "source": [
    "# Investigate patterns in the amount of missing data in each column.\n",
    "\n",
    "my_plot = col_null[col_null>0]\n",
    "\n",
    "my_plot.sort_values().plot(kind=\"barh\", figsize=(8,15), grid=\"on\", title=\"Missing values in each column\")"
   ]
  },
  {
   "cell_type": "code",
   "execution_count": 13,
   "metadata": {},
   "outputs": [
    {
     "data": {
      "text/plain": [
       "TITEL_KZ        889061\n",
       "AGER_TYP        685843\n",
       "KK_KUNDENTYP    584612\n",
       "KBA05_BAUMAX    476524\n",
       "GEBURTSJAHR     392318\n",
       "ALTER_HH        310267\n",
       "dtype: int64"
      ]
     },
     "execution_count": 13,
     "metadata": {},
     "output_type": "execute_result"
    }
   ],
   "source": [
    "#more than 200000 (20%) missing value\n",
    "col_null[col_null>200000].sort_values(ascending=False)"
   ]
  },
  {
   "cell_type": "code",
   "execution_count": 14,
   "metadata": {},
   "outputs": [
    {
     "data": {
      "text/plain": [
       "['AGER_TYP',\n",
       " 'GEBURTSJAHR',\n",
       " 'TITEL_KZ',\n",
       " 'ALTER_HH',\n",
       " 'KK_KUNDENTYP',\n",
       " 'KBA05_BAUMAX']"
      ]
     },
     "execution_count": 14,
     "metadata": {},
     "output_type": "execute_result"
    }
   ],
   "source": [
    "# List outlier for drop\n",
    "drop_columns = col_null[col_null>200000].axes[0].tolist()\n",
    "drop_columns"
   ]
  },
  {
   "cell_type": "code",
   "execution_count": 15,
   "metadata": {},
   "outputs": [
    {
     "data": {
      "text/plain": [
       "(891221, 85)"
      ]
     },
     "execution_count": 15,
     "metadata": {},
     "output_type": "execute_result"
    }
   ],
   "source": [
    "# Shape before drop\n",
    "azdias_na.shape"
   ]
  },
  {
   "cell_type": "code",
   "execution_count": 16,
   "metadata": {},
   "outputs": [
    {
     "data": {
      "text/plain": [
       "(891221, 79)"
      ]
     },
     "execution_count": 16,
     "metadata": {},
     "output_type": "execute_result"
    }
   ],
   "source": [
    "# Remove the outlier columns from the dataset. (You'll perform other data\n",
    "# engineering tasks such as re-encoding and imputation later.)\n",
    "\n",
    "azdias_na.drop(drop_columns, axis=1, inplace=True)\n",
    "\n",
    "# Shape after drop\n",
    "azdias_na.shape"
   ]
  },
  {
   "cell_type": "code",
   "execution_count": 17,
   "metadata": {},
   "outputs": [
    {
     "data": {
      "text/plain": [
       "count    79.000000\n",
       "mean      7.151764\n",
       "std       6.087588\n",
       "min       0.000000\n",
       "25%       0.000000\n",
       "50%      10.451729\n",
       "75%      12.145080\n",
       "max      17.735668\n",
       "dtype: float64"
      ]
     },
     "execution_count": 17,
     "metadata": {},
     "output_type": "execute_result"
    }
   ],
   "source": [
    "(azdias_na.isnull().sum()/(len(azdias))*100).describe()"
   ]
  },
  {
   "cell_type": "markdown",
   "metadata": {},
   "source": [
    "#### Discussion 1.1.2: Assess Missing Data in Each Column\n",
    "\n",
    "(Double click this cell and replace this text with your own text, reporting your observations regarding the amount of missing data in each column. Are there any patterns in missing values? Which columns were removed from the dataset?)\n",
    "\n",
    "* Now we have 79 instead of the initial 85 columns.\n",
    "* 6 columns have more than 20% missing value and I remove them from the data. They are AGER_TYP, GEBURTSJAHR, TITEL_KZ, ALTER_HH, KK_KUNDENTYP and KBA05_BAUMAX.\n",
    "* About 20% of columns havine missing values were considered outliers\n",
    "* Most columns, 75%, have up to 13% missing values\n",
    "* 25% of columns do not have missing values"
   ]
  },
  {
   "cell_type": "markdown",
   "metadata": {},
   "source": [
    "#### Step 1.1.3: Assess Missing Data in Each Row\n",
    "\n",
    "Now, you'll perform a similar assessment for the rows of the dataset. How much data is missing in each row? As with the columns, you should see some groups of points that have a very different numbers of missing values. Divide the data into two subsets: one for data points that are above some threshold for missing values, and a second subset for points below that threshold.\n",
    "\n",
    "In order to know what to do with the outlier rows, we should see if the distribution of data values on columns that are not missing data (or are missing very little data) are similar or different between the two groups. Select at least five of these columns and compare the distribution of values.\n",
    "- You can use seaborn's [`countplot()`](https://seaborn.pydata.org/generated/seaborn.countplot.html) function to create a bar chart of code frequencies and matplotlib's [`subplot()`](https://matplotlib.org/api/_as_gen/matplotlib.pyplot.subplot.html) function to put bar charts for the two subplots side by side.\n",
    "- To reduce repeated code, you might want to write a function that can perform this comparison, taking as one of its arguments a column to be compared.\n",
    "\n",
    "Depending on what you observe in your comparison, this will have implications on how you approach your conclusions later in the analysis. If the distributions of non-missing features look similar between the data with many missing values and the data with few or no missing values, then we could argue that simply dropping those points from the analysis won't present a major issue. On the other hand, if the data with many missing values looks very different from the data with few or no missing values, then we should make a note on those data as special. We'll revisit these data later on. **Either way, you should continue your analysis for now using just the subset of the data with few or no missing values.**"
   ]
  },
  {
   "cell_type": "code",
   "execution_count": 18,
   "metadata": {},
   "outputs": [
    {
     "data": {
      "image/png": "[encoded data removed]",
      "text/plain": [
       "<matplotlib.figure.Figure at 0x7f2401284240>"
      ]
     },
     "metadata": {
      "needs_background": "light"
     },
     "output_type": "display_data"
    }
   ],
   "source": [
    "# How much data is missing in each row of the dataset?\n",
    "\n",
    "row_null = np.sum(pd.isnull(azdias_na), axis = 1)\n",
    "row_null_per = row_null / azdias_na.shape[1]\n",
    "plt.hist(row_null_per, bins = 50)\n",
    "\n",
    "plt.title(\"Missing Data in Each Row\")\n",
    "plt.ylabel(\"count\")\n",
    "plt.show()"
   ]
  },
  {
   "cell_type": "code",
   "execution_count": 19,
   "metadata": {},
   "outputs": [],
   "source": [
    "# Write code to divide the data into two subsets based on the number of missing\n",
    "# values in each row.\n",
    "\n",
    "azdias_below_15 = azdias_na.loc[row_null / azdias_na.shape[1] <= 0.15, :].copy()\n",
    "azdias_above_15 = azdias_na.loc[row_null / azdias_na.shape[1] > 0.15, :].copy()"
   ]
  },
  {
   "cell_type": "code",
   "execution_count": 20,
   "metadata": {},
   "outputs": [],
   "source": [
    "# Compare the distribution of values for at least five columns where there are\n",
    "# no or few missing values, between the two subsets.\n",
    "\n",
    "def compare_plot(colname):\n",
    "    plt.figure(1, figsize=(12, 3))\n",
    "    plt.subplot(121)\n",
    "    sns.countplot(azdias_below_15.loc[:, colname])\n",
    "    plt.subplot(122)\n",
    "    sns.countplot(azdias_above_15.loc[:, colname])\n",
    "    plt.show()"
   ]
  },
  {
   "cell_type": "code",
   "execution_count": 21,
   "metadata": {},
   "outputs": [
    {
     "data": {
      "image/png": "[encoded data removed]",
      "text/plain": [
       "<matplotlib.figure.Figure at 0x7f240139be10>"
      ]
     },
     "metadata": {
      "needs_background": "light"
     },
     "output_type": "display_data"
    }
   ],
   "source": [
    "compare_plot('GFK_URLAUBERTYP')"
   ]
  },
  {
   "cell_type": "code",
   "execution_count": 22,
   "metadata": {},
   "outputs": [
    {
     "data": {
      "image/png": "[encoded data removed]",
      "text/plain": [
       "<matplotlib.figure.Figure at 0x7f24012d4d30>"
      ]
     },
     "metadata": {
      "needs_background": "light"
     },
     "output_type": "display_data"
    }
   ],
   "source": [
    "compare_plot('VERS_TYP')"
   ]
  },
  {
   "cell_type": "code",
   "execution_count": 23,
   "metadata": {},
   "outputs": [
    {
     "data": {
      "image/png": "[encoded data removed]",
      "text/plain": [
       "<matplotlib.figure.Figure at 0x7f2400039e80>"
      ]
     },
     "metadata": {
      "needs_background": "light"
     },
     "output_type": "display_data"
    }
   ],
   "source": [
    "compare_plot('HH_EINKOMMEN_SCORE')\n"
   ]
  },
  {
   "cell_type": "code",
   "execution_count": 24,
   "metadata": {},
   "outputs": [
    {
     "data": {
      "image/png": "[encoded data removed]",
      "text/plain": [
       "<matplotlib.figure.Figure at 0x7f23fb7bd9e8>"
      ]
     },
     "metadata": {
      "needs_background": "light"
     },
     "output_type": "display_data"
    }
   ],
   "source": [
    "compare_plot('W_KEIT_KIND_HH')\n"
   ]
  },
  {
   "cell_type": "code",
   "execution_count": 25,
   "metadata": {},
   "outputs": [
    {
     "data": {
      "image/png": "[encoded data removed]",
      "text/plain": [
       "<matplotlib.figure.Figure at 0x7f2400039a58>"
      ]
     },
     "metadata": {
      "needs_background": "light"
     },
     "output_type": "display_data"
    }
   ],
   "source": [
    "compare_plot('ONLINE_AFFINITAET')\n"
   ]
  },
  {
   "cell_type": "markdown",
   "metadata": {},
   "source": [
    "#### Discussion 1.1.3: Assess Missing Data in Each Row\n",
    "\n",
    "(Double-click this cell and replace this text with your own text, reporting your observations regarding missing data in rows. Are the data with lots of missing values are qualitatively different from data with few or no missing values?)\n",
    "\n",
    "No, it's hard to find columns that is different between data with below and over 15% missing values. So I choose to retain the data having below 15% missing value to do the comming investigation."
   ]
  },
  {
   "cell_type": "markdown",
   "metadata": {},
   "source": [
    "### Step 1.2: Select and Re-Encode Features\n",
    "\n",
    "Checking for missing data isn't the only way in which you can prepare a dataset for analysis. Since the unsupervised learning techniques to be used will only work on data that is encoded numerically, you need to make a few encoding changes or additional assumptions to be able to make progress. In addition, while almost all of the values in the dataset are encoded using numbers, not all of them represent numeric values. Check the third column of the feature summary (`feat_info`) for a summary of types of measurement.\n",
    "- For numeric and interval data, these features can be kept without changes.\n",
    "- Most of the variables in the dataset are ordinal in nature. While ordinal values may technically be non-linear in spacing, make the simplifying assumption that the ordinal variables can be treated as being interval in nature (that is, kept without any changes).\n",
    "- Special handling may be necessary for the remaining two variable types: categorical, and 'mixed'.\n",
    "\n",
    "In the first two parts of this sub-step, you will perform an investigation of the categorical and mixed-type features and make a decision on each of them, whether you will keep, drop, or re-encode each. Then, in the last part, you will create a new data frame with only the selected and engineered columns.\n",
    "\n",
    "Data wrangling is often the trickiest part of the data analysis process, and there's a lot of it to be done here. But stick with it: once you're done with this step, you'll be ready to get to the machine learning parts of the project!"
   ]
  },
  {
   "cell_type": "code",
   "execution_count": 26,
   "metadata": {},
   "outputs": [
    {
     "data": {
      "text/plain": [
       "ordinal        49\n",
       "categorical    21\n",
       "numeric         7\n",
       "mixed           7\n",
       "interval        1\n",
       "Name: type, dtype: int64"
      ]
     },
     "execution_count": 26,
     "metadata": {},
     "output_type": "execute_result"
    }
   ],
   "source": [
    "# How many features are there of each data type?\n",
    "\n",
    "feat_info[\"type\"].value_counts()\n"
   ]
  },
  {
   "cell_type": "code",
   "execution_count": 27,
   "metadata": {},
   "outputs": [
    {
     "data": {
      "text/plain": [
       "85"
      ]
     },
     "execution_count": 27,
     "metadata": {},
     "output_type": "execute_result"
    }
   ],
   "source": [
    "# Total\n",
    "feat_info[\"type\"].value_counts().sum()"
   ]
  },
  {
   "cell_type": "code",
   "execution_count": 28,
   "metadata": {},
   "outputs": [
    {
     "data": {
      "text/plain": [
       "ordinal        49\n",
       "categorical    18\n",
       "mixed           6\n",
       "numeric         6\n",
       "Name: type, dtype: int64"
      ]
     },
     "execution_count": 28,
     "metadata": {},
     "output_type": "execute_result"
    }
   ],
   "source": [
    "# Without columns (rows) in drop_columns\n",
    "# Delete the rows with label in drop_columns\n",
    "# For label-based deletion, set the index first on the dataframe:\n",
    "feat_drop = feat_info.set_index(\"attribute\")\n",
    "feat_drop = feat_drop.drop(drop_columns, axis=0) # Delete all rows with label in drop_columns\n",
    "feat_drop[\"type\"].value_counts()"
   ]
  },
  {
   "cell_type": "code",
   "execution_count": 29,
   "metadata": {},
   "outputs": [
    {
     "name": "stdout",
     "output_type": "stream",
     "text": [
      "79\n"
     ]
    }
   ],
   "source": [
    "print(feat_drop[\"type\"].value_counts().sum())"
   ]
  },
  {
   "cell_type": "code",
   "execution_count": 30,
   "metadata": {},
   "outputs": [],
   "source": [
    "feat_drop.reset_index(inplace=True)"
   ]
  },
  {
   "cell_type": "markdown",
   "metadata": {},
   "source": [
    "\n",
    "#### Step 1.2.1: Re-Encode Categorical Features\n",
    "\n",
    "For categorical data, you would ordinarily need to encode the levels as dummy variables. Depending on the number of categories, perform one of the following:\n",
    "- For binary (two-level) categoricals that take numeric values, you can keep them without needing to do anything.\n",
    "- There is one binary variable that takes on non-numeric values. For this one, you need to re-encode the values as numbers or create a dummy variable.\n",
    "- For multi-level categoricals (three or more values), you can choose to encode the values using multiple dummy variables (e.g. via [OneHotEncoder](http://scikit-learn.org/stable/modules/generated/sklearn.preprocessing.OneHotEncoder.html)), or (to keep things straightforward) just drop them from the analysis. As always, document your choices in the Discussion section."
   ]
  },
  {
   "cell_type": "code",
   "execution_count": 31,
   "metadata": {},
   "outputs": [
    {
     "name": "stdout",
     "output_type": "stream",
     "text": [
      "2.0    407251\n",
      "1.0    374029\n",
      "Name: ANREDE_KZ, dtype: int64\n",
      "4.0    193740\n",
      "3.0    143795\n",
      "2.0    139828\n",
      "5.0    109463\n",
      "6.0     99083\n",
      "1.0     91492\n",
      "Name: CJT_GESAMTTYP, dtype: int64\n",
      "6.0    287209\n",
      "1.0    192917\n",
      "5.0    104718\n",
      "2.0    102490\n",
      "4.0     55135\n",
      "3.0     38811\n",
      "Name: FINANZTYP, dtype: int64\n",
      "12.0    125750\n",
      "10.0    101411\n",
      "8.0      81903\n",
      "11.0     73959\n",
      "5.0      69938\n",
      "4.0      60181\n",
      "9.0      55754\n",
      "3.0      52946\n",
      "1.0      50174\n",
      "7.0      40090\n",
      "2.0      39748\n",
      "6.0      25547\n",
      "Name: GFK_URLAUBERTYP, dtype: int64\n",
      "0.0    609397\n",
      "1.0    171883\n",
      "Name: GREEN_AVANTGARDE, dtype: int64\n",
      "1.0     395611\n",
      "10.0    127279\n",
      "2.0      96213\n",
      "11.0     48237\n",
      "8.0      21336\n",
      "7.0      18705\n",
      "4.0      11255\n",
      "5.0      10978\n",
      "9.0      10291\n",
      "6.0       7767\n",
      "3.0       4399\n",
      "Name: LP_FAMILIE_FEIN, dtype: int64\n",
      "1.0    395611\n",
      "5.0    185807\n",
      "2.0     96213\n",
      "4.0     47808\n",
      "3.0     26632\n",
      "Name: LP_FAMILIE_GROB, dtype: int64\n",
      "1.0     204891\n",
      "9.0     131409\n",
      "2.0     110084\n",
      "10.0    109424\n",
      "4.0      73364\n",
      "3.0      68452\n",
      "6.0      28257\n",
      "5.0      26393\n",
      "8.0      16081\n",
      "7.0       9046\n",
      "Name: LP_STATUS_FEIN, dtype: int64\n",
      "1.0    314975\n",
      "2.0    168209\n",
      "4.0    147490\n",
      "5.0    109424\n",
      "3.0     37303\n",
      "Name: LP_STATUS_GROB, dtype: int64\n",
      "1.0    654706\n",
      "2.0     62632\n",
      "3.0     31826\n",
      "Name: NATIONALITAET_KZ, dtype: int64\n",
      "1.0    241199\n",
      "2.0    204202\n",
      "3.0    174757\n",
      "0.0    126362\n",
      "Name: SHOPPER_TYP, dtype: int64\n",
      "0.0    774726\n",
      "1.0      6554\n",
      "Name: SOHO_KZ, dtype: int64\n",
      "2.0    389861\n",
      "1.0    356659\n",
      "Name: VERS_TYP, dtype: int64\n",
      "3.0    277122\n",
      "4.0    203927\n",
      "1.0    119869\n",
      "5.0     79655\n",
      "6.0     69895\n",
      "2.0     30812\n",
      "Name: ZABEOTYP, dtype: int64\n",
      "1.0    447947\n",
      "3.0    175970\n",
      "8.0    151511\n",
      "2.0      4443\n",
      "4.0       838\n",
      "6.0       570\n",
      "5.0         1\n",
      "Name: GEBAEUDETYP, dtype: int64\n",
      "W    615657\n",
      "O    165623\n",
      "Name: OST_WEST_KZ, dtype: int64\n",
      "8    133436\n",
      "9    107369\n",
      "6    104442\n",
      "4    101409\n",
      "3     83346\n",
      "2     81232\n",
      "7     76878\n",
      "5     53464\n",
      "1     35597\n",
      "Name: CAMEO_DEUG_2015, dtype: int64\n",
      "6B    55888\n",
      "8A    52124\n",
      "4C    46659\n",
      "2D    34407\n",
      "3C    34175\n",
      "7A    33917\n",
      "3D    33668\n",
      "8B    33068\n",
      "4A    32270\n",
      "8C    30783\n",
      "9D    28414\n",
      "9B    27512\n",
      "9C    24863\n",
      "7B    24178\n",
      "9A    20407\n",
      "2C    18869\n",
      "8D    17461\n",
      "6E    15961\n",
      "2B    15044\n",
      "5D    14708\n",
      "6C    14599\n",
      "2A    12912\n",
      "1D    11766\n",
      "5A    11183\n",
      "1A    10640\n",
      "5B    10170\n",
      "5C     9642\n",
      "7C     8974\n",
      "4B     8814\n",
      "3A     8785\n",
      "4D     8442\n",
      "3B     6718\n",
      "6A     6697\n",
      "9E     6173\n",
      "6D     6003\n",
      "6F     5294\n",
      "7D     5268\n",
      "4E     5224\n",
      "1E     4978\n",
      "7E     4541\n",
      "5F     4221\n",
      "1C     4215\n",
      "1B     3998\n",
      "5E     3540\n",
      "Name: CAMEO_DEU_2015, dtype: int64\n"
     ]
    }
   ],
   "source": [
    "# Assess categorical variables: which are binary, which are multi-level, and\n",
    "# which one needs to be re-encoded?\n",
    "\n",
    "cat_col = feat_drop.loc[feat_drop['type'] == 'categorical', 'attribute']\n",
    "azdias_cat_col = azdias_below_15.columns.isin(cat_col)\n",
    "azdias_cat = azdias_below_15.loc[:, azdias_cat_col]\n",
    "for col in azdias_cat.columns:\n",
    "    print(azdias_cat.loc[:, col].value_counts())\n"
   ]
  },
  {
   "cell_type": "code",
   "execution_count": 32,
   "metadata": {},
   "outputs": [],
   "source": [
    "# Re-encode categorical variable(s) to be kept in the analysis.\n",
    "\n",
    "one_hot_col = ['CJT_GESAMTTYP', 'FINANZTYP', 'GFK_URLAUBERTYP', 'LP_FAMILIE_FEIN', 'LP_STATUS_FEIN', 'NATIONALITAET_KZ', 'SHOPPER_TYP', 'ZABEOTYP', 'GEBAEUDETYP', 'OST_WEST_KZ', 'CAMEO_DEUG_2015', 'CAMEO_DEU_2015']\n",
    "\n",
    "azdias_cat_one_hot = pd.get_dummies(azdias_below_15, columns = one_hot_col)\n",
    "azdias_cat_one_hot.drop(['LP_FAMILIE_GROB', 'LP_STATUS_GROB'], axis = 1, inplace = True)"
   ]
  },
  {
   "cell_type": "markdown",
   "metadata": {},
   "source": [
    "#### Discussion 1.2.1: Re-Encode Categorical Features\n",
    "\n",
    "(Double-click this cell and replace this text with your own text, reporting your findings and decisions regarding categorical features. Which ones did you keep, which did you drop, and what engineering steps did you perform?)\n",
    "\n",
    "* I drop LP_FAMILIE_GROB and LP_STATUS_GROB because they have the detail version here.\n",
    "* I kept the other categorical features \n",
    "* recode the multi-level categoricals and binary variable that takes on non-numeric values to one hot code."
   ]
  },
  {
   "cell_type": "markdown",
   "metadata": {},
   "source": [
    "#### Step 1.2.2: Engineer Mixed-Type Features\n",
    "\n",
    "There are a handful of features that are marked as \"mixed\" in the feature summary that require special treatment in order to be included in the analysis. There are two in particular that deserve attention; the handling of the rest are up to your own choices:\n",
    "- \"PRAEGENDE_JUGENDJAHRE\" combines information on three dimensions: generation by decade, movement (mainstream vs. avantgarde), and nation (east vs. west). While there aren't enough levels to disentangle east from west, you should create two new variables to capture the other two dimensions: an interval-type variable for decade, and a binary variable for movement.\n",
    "- \"CAMEO_INTL_2015\" combines information on two axes: wealth and life stage. Break up the two-digit codes by their 'tens'-place and 'ones'-place digits into two new ordinal variables (which, for the purposes of this project, is equivalent to just treating them as their raw numeric values).\n",
    "- If you decide to keep or engineer new features around the other mixed-type features, make sure you note your steps in the Discussion section.\n",
    "\n",
    "Be sure to check `Data_Dictionary.md` for the details needed to finish these tasks."
   ]
  },
  {
   "cell_type": "code",
   "execution_count": 33,
   "metadata": {},
   "outputs": [],
   "source": [
    "azdias_mix_eng = azdias_cat_one_hot.copy()\n",
    "\n",
    "pj_to_generation = {\n",
    "    1:1, 2:1,\n",
    "    3:2, 4:2,\n",
    "    5:3, 6:3, 7:3,\n",
    "    8:4, 9:4,\n",
    "    10:5, 11:5, 12:5, 13:5,\n",
    "    14:6, 15:6\n",
    "}\n",
    "azdias_mix_eng['GENERATION'] = azdias_mix_eng['PRAEGENDE_JUGENDJAHRE'].map(pj_to_generation)\n",
    "\n",
    "pj_to_movement = {\n",
    "    1:1, 3:1, 5:1, 8:1, 10:1, 12:1, 14:1,\n",
    "    2:2, 4:2, 6:2, 7:2, 9:2, 11:2, 13:2, 15:2\n",
    "}\n",
    "\n",
    "azdias_mix_eng['MOVEMENT'] = azdias_mix_eng['PRAEGENDE_JUGENDJAHRE'].map(pj_to_movement)\n",
    "\n",
    "azdias_mix_eng.drop('PRAEGENDE_JUGENDJAHRE', axis = 1, inplace = True)# Investigate \"PRAEGENDE_JUGENDJAHRE\" and engineer two new variables.\n",
    "\n",
    "azdias_mix_eng = azdias_cat_one_hot.copy()\n",
    "\n",
    "pj_to_generation = {\n",
    "    1:1, 2:1,\n",
    "    3:2, 4:2,\n",
    "    5:3, 6:3, 7:3,\n",
    "    8:4, 9:4,\n",
    "    10:5, 11:5, 12:5, 13:5,\n",
    "    14:6, 15:6\n",
    "}\n",
    "azdias_mix_eng['GENERATION'] = azdias_mix_eng['PRAEGENDE_JUGENDJAHRE'].map(pj_to_generation)\n",
    "\n",
    "pj_to_movement = {\n",
    "    1:1, 3:1, 5:1, 8:1, 10:1, 12:1, 14:1,\n",
    "    2:2, 4:2, 6:2, 7:2, 9:2, 11:2, 13:2, 15:2\n",
    "}\n",
    "\n",
    "azdias_mix_eng['MOVEMENT'] = azdias_mix_eng['PRAEGENDE_JUGENDJAHRE'].map(pj_to_movement)\n",
    "\n",
    "azdias_mix_eng.drop('PRAEGENDE_JUGENDJAHRE', axis = 1, inplace = True)"
   ]
  },
  {
   "cell_type": "code",
   "execution_count": 34,
   "metadata": {},
   "outputs": [],
   "source": [
    "# Investigate \"CAMEO_INTL_2015\" and engineer two new variables.\n",
    "\n",
    "azdias_mix_eng['WEALTH'] = azdias_mix_eng.loc[:, 'CAMEO_INTL_2015'].map(lambda x: int(x[0]) if pd.notnull(x) else np.NaN)\n",
    "azdias_mix_eng['LIFE_STAGE'] = azdias_mix_eng.loc[:, 'CAMEO_INTL_2015'].map(lambda x: int(x[1]) if pd.notnull(x) else np.NaN)"
   ]
  },
  {
   "cell_type": "code",
   "execution_count": 35,
   "metadata": {},
   "outputs": [],
   "source": [
    "azdias_mix_eng.drop('CAMEO_INTL_2015', axis = 1, inplace = True)"
   ]
  },
  {
   "cell_type": "code",
   "execution_count": 36,
   "metadata": {},
   "outputs": [
    {
     "data": {
      "text/plain": [
       "15      LP_LEBENSPHASE_FEIN\n",
       "16      LP_LEBENSPHASE_GROB\n",
       "22    PRAEGENDE_JUGENDJAHRE\n",
       "56                 WOHNLAGE\n",
       "59          CAMEO_INTL_2015\n",
       "64             KBA05_BAUMAX\n",
       "79              PLZ8_BAUMAX\n",
       "Name: attribute, dtype: object"
      ]
     },
     "execution_count": 36,
     "metadata": {},
     "output_type": "execute_result"
    }
   ],
   "source": [
    "mix_col = feat_info.loc[feat_info['type'] == 'mixed', 'attribute']\n",
    "mix_col"
   ]
  },
  {
   "cell_type": "code",
   "execution_count": 37,
   "metadata": {},
   "outputs": [],
   "source": [
    "mix_drop_col = ['LP_LEBENSPHASE_FEIN', 'LP_LEBENSPHASE_GROB', 'WOHNLAGE', 'PLZ8_BAUMAX']\n",
    "azdias_mix_eng.drop(mix_drop_col, axis = 1, inplace = True)"
   ]
  },
  {
   "cell_type": "code",
   "execution_count": 38,
   "metadata": {},
   "outputs": [
    {
     "data": {
      "text/plain": [
       "uint8      120\n",
       "float64     63\n",
       "dtype: int64"
      ]
     },
     "execution_count": 38,
     "metadata": {},
     "output_type": "execute_result"
    }
   ],
   "source": [
    "azdias_mix_eng.dtypes.value_counts()"
   ]
  },
  {
   "cell_type": "markdown",
   "metadata": {},
   "source": [
    "#### Discussion 1.2.2: Engineer Mixed-Type Features\n",
    "\n",
    "(Double-click this cell and replace this text with your own text, reporting your findings and decisions regarding mixed-value features. Which ones did you keep, which did you drop, and what engineering steps did you perform?)\n",
    "\n",
    "I investigate \"PRAEGENDE_JUGENDJAHRE\" and \"CAMEO_INTL_2015\", the engineer two new variables for each of them. I singlely drop the other mixed columns because these columns will provide additional information."
   ]
  },
  {
   "cell_type": "markdown",
   "metadata": {},
   "source": [
    "#### Step 1.2.3: Complete Feature Selection\n",
    "\n",
    "In order to finish this step up, you need to make sure that your data frame now only has the columns that you want to keep. To summarize, the dataframe should consist of the following:\n",
    "- All numeric, interval, and ordinal type columns from the original dataset.\n",
    "- Binary categorical features (all numerically-encoded).\n",
    "- Engineered features from other multi-level categorical features and mixed features.\n",
    "\n",
    "Make sure that for any new columns that you have engineered, that you've excluded the original columns from the final dataset. Otherwise, their values will interfere with the analysis later on the project. For example, you should not keep \"PRAEGENDE_JUGENDJAHRE\", since its values won't be useful for the algorithm: only the values derived from it in the engineered features you created should be retained. As a reminder, your data should only be from **the subset with few or no missing values**."
   ]
  },
  {
   "cell_type": "code",
   "execution_count": 39,
   "metadata": {},
   "outputs": [],
   "source": [
    "# If there are other re-engineering tasks you need to perform, make sure you\n",
    "# take care of them here. (Dealing with missing data will come in step 2.1.)\n",
    "\n",
    "azdias_fin = azdias_mix_eng.copy()\n"
   ]
  },
  {
   "cell_type": "code",
   "execution_count": 40,
   "metadata": {},
   "outputs": [
    {
     "data": {
      "text/plain": [
       "Index(['ALTERSKATEGORIE_GROB', 'ANREDE_KZ', 'FINANZ_MINIMALIST',\n",
       "       'FINANZ_SPARER', 'FINANZ_VORSORGER', 'FINANZ_ANLEGER',\n",
       "       'FINANZ_UNAUFFAELLIGER', 'FINANZ_HAUSBAUER', 'GREEN_AVANTGARDE',\n",
       "       'HEALTH_TYP',\n",
       "       ...\n",
       "       'CAMEO_DEU_2015_8D', 'CAMEO_DEU_2015_9A', 'CAMEO_DEU_2015_9B',\n",
       "       'CAMEO_DEU_2015_9C', 'CAMEO_DEU_2015_9D', 'CAMEO_DEU_2015_9E',\n",
       "       'GENERATION', 'MOVEMENT', 'WEALTH', 'LIFE_STAGE'],\n",
       "      dtype='object', length=183)"
      ]
     },
     "execution_count": 40,
     "metadata": {},
     "output_type": "execute_result"
    }
   ],
   "source": [
    "# Do whatever you need to in order to ensure that the dataframe only contains\n",
    "# the columns that should be passed to the algorithm functions.\n",
    "\n",
    "azdias_fin.columns"
   ]
  },
  {
   "cell_type": "markdown",
   "metadata": {},
   "source": [
    "### Step 1.3: Create a Cleaning Function\n",
    "\n",
    "Even though you've finished cleaning up the general population demographics data, it's important to look ahead to the future and realize that you'll need to perform the same cleaning steps on the customer demographics data. In this substep, complete the function below to execute the main feature selection, encoding, and re-engineering steps you performed above. Then, when it comes to looking at the customer data in Step 3, you can just run this function on that DataFrame to get the trimmed dataset in a single step."
   ]
  },
  {
   "cell_type": "code",
   "execution_count": 70,
   "metadata": {},
   "outputs": [],
   "source": [
    "def clean_data(data):\n",
    "    \"\"\"\n",
    "    Perform feature trimming, re-encoding, and engineering for demographics\n",
    "    data\n",
    "    \n",
    "    INPUT: Demographics DataFrame\n",
    "    OUTPUT: Trimmed and cleaned demographics DataFrame\n",
    "    \"\"\"\n",
    "    print('Data\\'s shape before clean:', data.shape)\n",
    "    # Put in code here to execute all main cleaning steps:\n",
    "    # convert missing value codes into NaNs, ...\n",
    "    df = data.copy()\n",
    "    \n",
    "    for colname in feat_info.attribute:\n",
    "        na_map = feat_info.loc[feat_info.attribute == colname, 'missing_or_unknown'].iloc[0]\n",
    "        na_idx = df.loc[:, colname].isin(na_map)\n",
    "        df.loc[na_idx, colname] = np.NaN\n",
    "    \n",
    "    # remove selected columns and rows, ...\n",
    "    drop_col = ['AGER_TYP', 'GEBURTSJAHR', 'TITEL_KZ', 'ALTER_HH', 'KK_KUNDENTYP', 'KBA05_BAUMAX']\n",
    "    df.drop(drop_col, axis = 1, inplace = True)\n",
    "    \n",
    "    row_null = np.sum(pd.isnull(df), axis = 1)\n",
    "    df = df.loc[row_null / df.shape[1] <= 0.15, :]\n",
    "\n",
    "    # select, re-encode, and engineer column values.\n",
    "    one_hot_col = ['CJT_GESAMTTYP', 'FINANZTYP', 'GFK_URLAUBERTYP', 'LP_FAMILIE_FEIN', 'LP_STATUS_FEIN', 'NATIONALITAET_KZ', 'SHOPPER_TYP', 'ZABEOTYP', 'GEBAEUDETYP', 'OST_WEST_KZ', 'CAMEO_DEUG_2015', 'CAMEO_DEU_2015']\n",
    "    \n",
    "    df = pd.get_dummies(df, columns = one_hot_col)\n",
    "    df.drop(['LP_FAMILIE_GROB', 'LP_STATUS_GROB'], axis = 1, inplace = True)\n",
    "    \n",
    "    pj_to_generation = {\n",
    "    1:1, 2:1,\n",
    "    3:2, 4:2,\n",
    "    5:3, 6:3, 7:3,\n",
    "    8:4, 9:4,\n",
    "    10:5, 11:5, 12:5, 13:5,\n",
    "    14:6, 15:6\n",
    "    }\n",
    "    df['GENERATION'] = df['PRAEGENDE_JUGENDJAHRE'].map(pj_to_generation)\n",
    "\n",
    "    pj_to_movement = {\n",
    "        1:1, 3:1, 5:1, 8:1, 10:1, 12:1, 14:1,\n",
    "        2:2, 4:2, 6:2, 7:2, 9:2, 11:2, 13:2, 15:2\n",
    "    }\n",
    "\n",
    "    df['MOVEMENT'] = df['PRAEGENDE_JUGENDJAHRE'].map(pj_to_movement)\n",
    "\n",
    "    df.drop('PRAEGENDE_JUGENDJAHRE', axis = 1, inplace = True)\n",
    "    \n",
    "    df['WEALTH'] = df.loc[:, 'CAMEO_INTL_2015'].map(lambda x: int(x[0]) if pd.notnull(x) else np.NaN)\n",
    "    df['LIFE_STAGE'] = df.loc[:, 'CAMEO_INTL_2015'].map(lambda x: int(x[1]) if pd.notnull(x) else np.NaN)\n",
    "    df.drop('CAMEO_INTL_2015', axis = 1, inplace = True)\n",
    "    \n",
    "    mix_drop_col = ['LP_LEBENSPHASE_FEIN', 'LP_LEBENSPHASE_GROB', 'WOHNLAGE', 'PLZ8_BAUMAX']\n",
    "    cleaned_df = df.drop(mix_drop_col, axis = 1)\n",
    "    print('\\nData\\'s shape after clean:', cleaned_df.shape)\n",
    "    print('\\nData\\'s type after clean:', cleaned_df.dtypes.value_counts())\n",
    "    # Return the cleaned dataframe.\n",
    "    return cleaned_df"
   ]
  },
  {
   "cell_type": "markdown",
   "metadata": {},
   "source": [
    "## Step 2: Feature Transformation\n",
    "\n",
    "### Step 2.1: Apply Feature Scaling\n",
    "\n",
    "Before we apply dimensionality reduction techniques to the data, we need to perform feature scaling so that the principal component vectors are not influenced by the natural differences in scale for features. Starting from this part of the project, you'll want to keep an eye on the [API reference page for sklearn](http://scikit-learn.org/stable/modules/classes.html) to help you navigate to all of the classes and functions that you'll need. In this substep, you'll need to check the following:\n",
    "\n",
    "- sklearn requires that data not have missing values in order for its estimators to work properly. So, before applying the scaler to your data, make sure that you've cleaned the DataFrame of the remaining missing values. This can be as simple as just removing all data points with missing data, or applying an [Imputer](http://scikit-learn.org/stable/modules/generated/sklearn.preprocessing.Imputer.html) to replace all missing values. You might also try a more complicated procedure where you temporarily remove missing values in order to compute the scaling parameters before re-introducing those missing values and applying imputation. Think about how much missing data you have and what possible effects each approach might have on your analysis, and justify your decision in the discussion section below.\n",
    "- For the actual scaling function, a [StandardScaler](http://scikit-learn.org/stable/modules/generated/sklearn.preprocessing.StandardScaler.html) instance is suggested, scaling each feature to mean 0 and standard deviation 1.\n",
    "- For these classes, you can make use of the `.fit_transform()` method to both fit a procedure to the data as well as apply the transformation to the data at the same time. Don't forget to keep the fit sklearn objects handy, since you'll be applying them to the customer demographics data towards the end of the project."
   ]
  },
  {
   "cell_type": "code",
   "execution_count": 42,
   "metadata": {},
   "outputs": [],
   "source": [
    "# If you've not yet cleaned the dataset of all NaN values, then investigate and\n",
    "# do that now.\n",
    "\n",
    "imp = Imputer()\n",
    "azdias_imp = imp.fit_transform(azdias_fin)"
   ]
  },
  {
   "cell_type": "code",
   "execution_count": 43,
   "metadata": {},
   "outputs": [],
   "source": [
    "# Apply feature scaling to the general population demographics data.\n",
    "ss = StandardScaler()\n",
    "azdias_ss = ss.fit_transform(azdias_imp)\n"
   ]
  },
  {
   "cell_type": "markdown",
   "metadata": {},
   "source": [
    "### Discussion 2.1: Apply Feature Scaling\n",
    "\n",
    "(Double-click this cell and replace this text with I fills in the mean value for imputation and this is simply and useful, which won't change the feature's mean and is a good predict for the na value. But imputed values may by systematically above or below their actual values. Then I use StandardScaler for feature scaling.your own text, reporting your decisions regarding feature scaling.)\n",
    "\n",
    "I fills in the mean value for imputation and this is simply and useful, which won't change the feature's mean and is a good predict for the na value. But imputed values may by systematically above or below their actual values. Then I use StandardScaler for feature scaling."
   ]
  },
  {
   "cell_type": "markdown",
   "metadata": {},
   "source": [
    "### Step 2.2: Perform Dimensionality Reduction\n",
    "\n",
    "On your scaled data, you are now ready to apply dimensionality reduction techniques.\n",
    "\n",
    "- Use sklearn's [PCA](http://scikit-learn.org/stable/modules/generated/sklearn.decomposition.PCA.html) class to apply principal component analysis on the data, thus finding the vectors of maximal variance in the data. To start, you should not set any parameters (so all components are computed) or set a number of components that is at least half the number of features (so there's enough features to see the general trend in variability).\n",
    "- Check out the ratio of variance explained by each principal component as well as the cumulative variance explained. Try plotting the cumulative or sequential values using matplotlib's [`plot()`](https://matplotlib.org/api/_as_gen/matplotlib.pyplot.plot.html) function. Based on what you find, select a value for the number of transformed features you'll retain for the clustering part of the project.\n",
    "- Once you've made a choice for the number of components to keep, make sure you re-fit a PCA instance to perform the decided-on transformation."
   ]
  },
  {
   "cell_type": "code",
   "execution_count": 44,
   "metadata": {},
   "outputs": [
    {
     "data": {
      "text/plain": [
       "PCA(copy=True, iterated_power='auto', n_components=None, random_state=None,\n",
       "  svd_solver='auto', tol=0.0, whiten=False)"
      ]
     },
     "execution_count": 44,
     "metadata": {},
     "output_type": "execute_result"
    }
   ],
   "source": [
    "# Apply PCA to the data.\n",
    "\n",
    "pca = PCA()\n",
    "pca.fit(azdias_ss)"
   ]
  },
  {
   "cell_type": "code",
   "execution_count": 45,
   "metadata": {},
   "outputs": [
    {
     "data": {
      "image/png": "[encoded data removed]",
      "text/plain": [
       "<matplotlib.figure.Figure at 0x7f23fb77d5f8>"
      ]
     },
     "metadata": {
      "needs_background": "light"
     },
     "output_type": "display_data"
    }
   ],
   "source": [
    "# Investigate the variance accounted for by each principal component.\n",
    "\n",
    "def scree_plot(pca):\n",
    "    num_components = len(pca.explained_variance_ratio_)\n",
    "    ind = np.arange(num_components)\n",
    "\n",
    "    vals = pca.explained_variance_ratio_\n",
    " \n",
    "    plt.figure(figsize=(10, 6))\n",
    "    ax = plt.subplot(111)\n",
    "    cumvals = np.cumsum(vals)\n",
    "    ax.bar(ind, vals)\n",
    "    ax.plot(ind, cumvals)\n",
    "    for i in range(1, num_components, 25):\n",
    "        ax.annotate(r\"%s%%\" % ((str(np.sum(vals[0:i])*100)[:4])), (ind[i]+0.2, vals[i]), va=\"bottom\", ha=\"center\", fontsize=12)\n",
    " \n",
    "    ax.xaxis.set_tick_params(width=0)\n",
    "    ax.yaxis.set_tick_params(width=2, length=12)\n",
    " \n",
    "    ax.set_xlabel(\"Principal Component\")\n",
    "    ax.set_ylabel(\"Variance Explained (%)\")\n",
    "    plt.title('Explained Variance Per Principal Component')\n",
    "    \n",
    "    \n",
    "scree_plot(pca)    "
   ]
  },
  {
   "cell_type": "code",
   "execution_count": 46,
   "metadata": {},
   "outputs": [],
   "source": [
    "# Re-apply PCA to the data while selecting for number of components to retain.\n",
    "\n",
    "pca_75 = PCA(75)\n",
    "azdias_pca = pca_75.fit_transform(azdias_ss)"
   ]
  },
  {
   "cell_type": "markdown",
   "metadata": {},
   "source": [
    "### Discussion 2.2: Perform Dimensionality Reduction\n",
    "\n",
    "(Double-click this cell and replace this text with your own text, reporting your findings and decisions regarding dimensionality reduction. How many principal components / transformed features are you retaining for the next step of the analysis?)\n",
    "\n",
    "Depending on the pca plot, I deside to retain 75 components for the next step, it remain about 75% of the variance for the next step. I think it select a stopping point where additional features do not add much to the amount of variability in the data that is explained and have enough variance left."
   ]
  },
  {
   "cell_type": "markdown",
   "metadata": {},
   "source": [
    "### Step 2.3: Interpret Principal Components\n",
    "\n",
    "Now that we have our transformed principal components, it's a nice idea to check out the weight of each variable on the first few components to see if they can be interpreted in some fashion.\n",
    "\n",
    "As a reminder, each principal component is a unit vector that points in the direction of highest variance (after accounting for the variance captured by earlier principal components). The further a weight is from zero, the more the principal component is in the direction of the corresponding feature. If two features have large weights of the same sign (both positive or both negative), then increases in one tend expect to be associated with increases in the other. To contrast, features with different signs can be expected to show a negative correlation: increases in one variable should result in a decrease in the other.\n",
    "\n",
    "- To investigate the features, you should map each weight to their corresponding feature name, then sort the features according to weight. The most interesting features for each principal component, then, will be those at the beginning and end of the sorted list. Use the data dictionary document to help you understand these most prominent features, their relationships, and what a positive or negative value on the principal component might indicate.\n",
    "- You should investigate and interpret feature associations from the first three principal components in this substep. To help facilitate this, you should write a function that you can call at any time to print the sorted list of feature weights, for the *i*-th principal component. This might come in handy in the next step of the project, when you interpret the tendencies of the discovered clusters."
   ]
  },
  {
   "cell_type": "code",
   "execution_count": 47,
   "metadata": {},
   "outputs": [],
   "source": [
    "# Map weights for the first principal component to corresponding feature names\n",
    "# and then print the linked values, sorted by weight.\n",
    "# HINT: Try defining a function here or in a new cell that you can reuse in the\n",
    "# other cells.\n",
    "\n",
    "def show_linked_values(pca_component):\n",
    "    pc = pd.Series(pca_component, index = azdias_fin.columns)\n",
    "    pc_rank = pc.sort_values()\n",
    "    print(pc_rank.head())\n",
    "    print(pc_rank.tail())"
   ]
  },
  {
   "cell_type": "code",
   "execution_count": 48,
   "metadata": {},
   "outputs": [
    {
     "name": "stdout",
     "output_type": "stream",
     "text": [
      "MOBI_REGIO          -0.210019\n",
      "FINANZ_MINIMALIST   -0.199242\n",
      "KBA05_ANTG1         -0.196784\n",
      "PLZ8_ANTG1          -0.190957\n",
      "KBA05_GBZ           -0.186170\n",
      "dtype: float64\n",
      "ORTSGR_KLS9           0.160750\n",
      "PLZ8_ANTG4            0.183898\n",
      "HH_EINKOMMEN_SCORE    0.188894\n",
      "PLZ8_ANTG3            0.189697\n",
      "WEALTH                0.192553\n",
      "dtype: float64\n"
     ]
    }
   ],
   "source": [
    "show_linked_values(pca_75.components_[0])\n"
   ]
  },
  {
   "cell_type": "code",
   "execution_count": 49,
   "metadata": {},
   "outputs": [
    {
     "name": "stdout",
     "output_type": "stream",
     "text": [
      "GENERATION              -0.233302\n",
      "FINANZ_SPARER           -0.220037\n",
      "FINANZ_UNAUFFAELLIGER   -0.213659\n",
      "SEMIO_REL               -0.212495\n",
      "SEMIO_TRADV             -0.205879\n",
      "dtype: float64\n",
      "SEMIO_LUST              0.160800\n",
      "SEMIO_ERL               0.180618\n",
      "ZABEOTYP_3.0            0.200140\n",
      "FINANZ_VORSORGER        0.213861\n",
      "ALTERSKATEGORIE_GROB    0.229310\n",
      "dtype: float64\n"
     ]
    }
   ],
   "source": [
    "# Map weights for the second principal component to corresponding feature names\n",
    "# and then print the linked values, sorted by weight.\n",
    "\n",
    "show_linked_values(pca_75.components_[1])\n"
   ]
  },
  {
   "cell_type": "code",
   "execution_count": 50,
   "metadata": {},
   "outputs": [
    {
     "name": "stdout",
     "output_type": "stream",
     "text": [
      "ANREDE_KZ    -0.350021\n",
      "SEMIO_KAEM   -0.321401\n",
      "SEMIO_DOM    -0.289600\n",
      "SEMIO_KRIT   -0.268134\n",
      "SEMIO_ERL    -0.205550\n",
      "dtype: float64\n",
      "FINANZTYP_5.0    0.135944\n",
      "SEMIO_KULT       0.250624\n",
      "SEMIO_SOZ        0.258986\n",
      "SEMIO_FAM        0.260965\n",
      "SEMIO_VERT       0.324343\n",
      "dtype: float64\n"
     ]
    }
   ],
   "source": [
    "# Map weights for the third principal component to corresponding feature names\n",
    "# and then print the linked values, sorted by weight.\n",
    "\n",
    "show_linked_values(pca_75.components_[2])\n"
   ]
  },
  {
   "cell_type": "markdown",
   "metadata": {},
   "source": [
    "### Discussion 2.3: Interpret Principal Components\n",
    "\n",
    "(Double-click this cell and replace this text with your own text, reporting your observations from detailed investigation of the first few principal components generated. Can we interpret positive and negative values from them in a meaningful way?)\n",
    "\n",
    "**In my opinion,**\n",
    "* the first principal component shows how low the person's income is. Because it shows low wealth and high movement. \n",
    "* The second principal component shows how old the person is. Because it shows old generation and old given name. \n",
    "* The third principal component shows men who don't like group in crowds. Because it show lowest affinity on family and social and have combative attitude."
   ]
  },
  {
   "cell_type": "markdown",
   "metadata": {},
   "source": [
    "## Step 3: Clustering\n",
    "\n",
    "### Step 3.1: Apply Clustering to General Population\n",
    "\n",
    "You've assessed and cleaned the demographics data, then scaled and transformed them. Now, it's time to see how the data clusters in the principal components space. In this substep, you will apply k-means clustering to the dataset and use the average within-cluster distances from each point to their assigned cluster's centroid to decide on a number of clusters to keep.\n",
    "\n",
    "- Use sklearn's [KMeans](http://scikit-learn.org/stable/modules/generated/sklearn.cluster.KMeans.html#sklearn.cluster.KMeans) class to perform k-means clustering on the PCA-transformed data.\n",
    "- Then, compute the average difference from each point to its assigned cluster's center. **Hint**: The KMeans object's `.score()` method might be useful here, but note that in sklearn, scores tend to be defined so that larger is better. Try applying it to a small, toy dataset, or use an internet search to help your understanding.\n",
    "- Perform the above two steps for a number of different cluster counts. You can then see how the average distance decreases with an increasing number of clusters. However, each additional cluster provides a smaller net benefit. Use this fact to select a final number of clusters in which to group the data. **Warning**: because of the large size of the dataset, it can take a long time for the algorithm to resolve. The more clusters to fit, the longer the algorithm will take. You should test for cluster counts through at least 10 clusters to get the full picture, but you shouldn't need to test for a number of clusters above about 30.\n",
    "- Once you've selected a final number of clusters to use, re-fit a KMeans instance to perform the clustering operation. Make sure that you also obtain the cluster assignments for the general demographics data, since you'll be using them in the final Step 3.3."
   ]
  },
  {
   "cell_type": "code",
   "execution_count": 51,
   "metadata": {},
   "outputs": [
    {
     "data": {
      "text/plain": [
       "(781280, 75)"
      ]
     },
     "execution_count": 51,
     "metadata": {},
     "output_type": "execute_result"
    }
   ],
   "source": [
    "azdias_pca.shape"
   ]
  },
  {
   "cell_type": "code",
   "execution_count": 52,
   "metadata": {},
   "outputs": [],
   "source": [
    "# Over a number of different cluster counts...\n",
    "def test_kmeans(data, n):\n",
    "\n",
    "    # run k-means clustering on the data and...\n",
    "    kmeans = KMeans(n)\n",
    "    model = kmeans.fit(data) \n",
    "    print(\"n:\", n, \"\\nscore:\", model.score(data))\n",
    "    # compute the average within-cluster distances.\n",
    "    return model.score(data)"
   ]
  },
  {
   "cell_type": "code",
   "execution_count": 53,
   "metadata": {},
   "outputs": [],
   "source": [
    "kmeans_score = np.zeros(30)"
   ]
  },
  {
   "cell_type": "code",
   "execution_count": 54,
   "metadata": {},
   "outputs": [
    {
     "name": "stdout",
     "output_type": "stream",
     "text": [
      "n: 1 \n",
      "score: -105185815.122\n",
      "n: 2 \n",
      "score: -96741976.6108\n",
      "n: 3 \n",
      "score: -92353176.2249\n",
      "n: 4 \n",
      "score: -89649210.3156\n",
      "n: 5 \n",
      "score: -87923416.7485\n",
      "n: 6 \n",
      "score: -86475910.3774\n",
      "n: 7 \n",
      "score: -85335261.4858\n",
      "n: 8 \n",
      "score: -84173778.9538\n",
      "n: 9 \n",
      "score: -83090193.8606\n",
      "n: 10 \n",
      "score: -82675327.0927\n",
      "n: 11 \n",
      "score: -81680117.3642\n",
      "n: 12 \n",
      "score: -81134247.0403\n",
      "n: 13 \n",
      "score: -80474320.9696\n",
      "n: 14 \n",
      "score: -79551061.5996\n",
      "n: 15 \n",
      "score: -79328575.0744\n",
      "n: 16 \n",
      "score: -78225966.0109\n",
      "n: 17 \n",
      "score: -77986257.235\n",
      "n: 18 \n",
      "score: -77556934.8208\n",
      "n: 19 \n",
      "score: -76826267.5908\n",
      "n: 20 \n",
      "score: -76038315.3697\n",
      "n: 21 \n",
      "score: -75874534.3745\n",
      "n: 22 \n",
      "score: -75290212.5303\n",
      "n: 23 \n",
      "score: -74643808.6403\n",
      "n: 24 \n",
      "score: -74500397.1115\n",
      "n: 25 \n",
      "score: -74009306.2208\n",
      "n: 26 \n",
      "score: -73295843.7316\n",
      "n: 27 \n",
      "score: -72872273.541\n",
      "n: 28 \n",
      "score: -72557301.7416\n",
      "n: 29 \n",
      "score: -72111667.9769\n",
      "n: 30 \n",
      "score: -71837623.0687\n",
      "[ -1.05185815e+08  -9.67419766e+07  -9.23531762e+07  -8.96492103e+07\n",
      "  -8.79234167e+07  -8.64759104e+07  -8.53352615e+07  -8.41737790e+07\n",
      "  -8.30901939e+07  -8.26753271e+07  -8.16801174e+07  -8.11342470e+07\n",
      "  -8.04743210e+07  -7.95510616e+07  -7.93285751e+07  -7.82259660e+07\n",
      "  -7.79862572e+07  -7.75569348e+07  -7.68262676e+07  -7.60383154e+07\n",
      "  -7.58745344e+07  -7.52902125e+07  -7.46438086e+07  -7.45003971e+07\n",
      "  -7.40093062e+07  -7.32958437e+07  -7.28722735e+07  -7.25573017e+07\n",
      "  -7.21116680e+07  -7.18376231e+07]\n"
     ]
    }
   ],
   "source": [
    "# Investigate the change in within-cluster distance across number of clusters.\n",
    "# HINT: Use matplotlib's plot function to visualize this relationship.\n",
    "for i in range(1, 31):\n",
    "    kmeans_score[i - 1] = test_kmeans(azdias_pca, i)\n",
    "\n",
    "print(kmeans_score)"
   ]
  },
  {
   "cell_type": "code",
   "execution_count": 55,
   "metadata": {},
   "outputs": [
    {
     "data": {
      "text/plain": [
       "[<matplotlib.lines.Line2D at 0x7f23fb7ec5f8>]"
      ]
     },
     "execution_count": 55,
     "metadata": {},
     "output_type": "execute_result"
    },
    {
     "data": {
      "image/png": "[encoded data removed]",
      "text/plain": [
       "<matplotlib.figure.Figure at 0x7f23fb7e52e8>"
      ]
     },
     "metadata": {
      "needs_background": "light"
     },
     "output_type": "display_data"
    }
   ],
   "source": [
    "plt.figure(figsize=(10, 6))\n",
    "ax = plt.subplot(111)\n",
    "\n",
    "ax.plot(range(1, 31), abs(kmeans_score)/ azdias_pca.shape[0])"
   ]
  },
  {
   "cell_type": "code",
   "execution_count": 58,
   "metadata": {},
   "outputs": [],
   "source": [
    "# Re-fit the k-means model with the selected number of clusters and obtain\n",
    "# cluster predictions for the general population demographics data.\n",
    "\n",
    "kmeans = KMeans(7)\n",
    "azdias_model = kmeans.fit(azdias_pca) \n",
    "azdias_labels = azdias_model.predict(azdias_pca)"
   ]
  },
  {
   "cell_type": "markdown",
   "metadata": {},
   "source": [
    "### Discussion 3.1: Apply Clustering to General Population\n",
    "\n",
    "(Double-click this cell and replace this text with your own text, reporting your findings and decisions regarding clustering. Into how many clusters have you decided to segment the population?)\n",
    "\n",
    "I choose 7 clusters depend on elbow in the curve where additional clusters lose their effectiveness in reducing the within-cluster distance."
   ]
  },
  {
   "cell_type": "markdown",
   "metadata": {},
   "source": [
    "### Step 3.2: Apply All Steps to the Customer Data\n",
    "\n",
    "Now that you have clusters and cluster centers for the general population, it's time to see how the customer data maps on to those clusters. Take care to not confuse this for re-fitting all of the models to the customer data. Instead, you're going to use the fits from the general population to clean, transform, and cluster the customer data. In the last step of the project, you will interpret how the general population fits apply to the customer data.\n",
    "\n",
    "- Don't forget when loading in the customers data, that it is semicolon (`;`) delimited.\n",
    "- Apply the same feature wrangling, selection, and engineering steps to the customer demographics using the `clean_data()` function you created earlier. (You can assume that the customer demographics data has similar meaning behind missing data patterns as the general demographics data.)\n",
    "- Use the sklearn objects from the general demographics data, and apply their transformations to the customers data. That is, you should not be using a `.fit()` or `.fit_transform()` method to re-fit the old objects, nor should you be creating new sklearn objects! Carry the data through the feature scaling, PCA, and clustering steps, obtaining cluster assignments for all of the data in the customer demographics data."
   ]
  },
  {
   "cell_type": "code",
   "execution_count": 59,
   "metadata": {},
   "outputs": [],
   "source": [
    "# Load in the customer demographics data.\n",
    "customers = pd.read_csv('Udacity_CUSTOMERS_Subset.csv', sep = ';')"
   ]
  },
  {
   "cell_type": "code",
   "execution_count": 71,
   "metadata": {},
   "outputs": [
    {
     "name": "stdout",
     "output_type": "stream",
     "text": [
      "Data's shape before clean: (191652, 85)\n",
      "\n",
      "Data's shape after clean: (139229, 182)\n",
      "\n",
      "Data's type after clean: uint8      119\n",
      "float64     63\n",
      "dtype: int64\n"
     ]
    }
   ],
   "source": [
    "# Apply preprocessing, feature transformation, and clustering from the general\n",
    "# demographics onto the customer data, obtaining cluster predictions for the\n",
    "# customer demographics data.\n",
    "\n",
    "customers_fin = clean_data(customers)"
   ]
  },
  {
   "cell_type": "code",
   "execution_count": 72,
   "metadata": {},
   "outputs": [
    {
     "data": {
      "text/plain": [
       "Index(['GEBAEUDETYP_5.0'], dtype='object')"
      ]
     },
     "execution_count": 72,
     "metadata": {},
     "output_type": "execute_result"
    }
   ],
   "source": [
    "azdias_fin.columns[~azdias_fin.columns.isin(customers_fin.columns)]\n"
   ]
  },
  {
   "cell_type": "code",
   "execution_count": 73,
   "metadata": {},
   "outputs": [
    {
     "data": {
      "text/plain": [
       "(array([121]),)"
      ]
     },
     "execution_count": 73,
     "metadata": {},
     "output_type": "execute_result"
    }
   ],
   "source": [
    "np.where(azdias_fin.columns == 'GEBAEUDETYP_5.0')\n"
   ]
  },
  {
   "cell_type": "code",
   "execution_count": 74,
   "metadata": {},
   "outputs": [],
   "source": [
    "customers_fin.insert(121, 'GEBAEUDETYP_5.0', 0)\n"
   ]
  },
  {
   "cell_type": "code",
   "execution_count": 75,
   "metadata": {},
   "outputs": [],
   "source": [
    "customers_imp = imp.transform(customers_fin)\n",
    "customers_ss = ss.transform(customers_imp)\n",
    "customers_pca = pca_75.transform(customers_ss)\n",
    "customers_labels = azdias_model.predict(customers_pca)"
   ]
  },
  {
   "cell_type": "markdown",
   "metadata": {},
   "source": [
    "### Step 3.3: Compare Customer Data to Demographics Data\n",
    "\n",
    "At this point, you have clustered data based on demographics of the general population of Germany, and seen how the customer data for a mail-order sales company maps onto those demographic clusters. In this final substep, you will compare the two cluster distributions to see where the strongest customer base for the company is.\n",
    "\n",
    "Consider the proportion of persons in each cluster for the general population, and the proportions for the customers. If we think the company's customer base to be universal, then the cluster assignment proportions should be fairly similar between the two. If there are only particular segments of the population that are interested in the company's products, then we should see a mismatch from one to the other. If there is a higher proportion of persons in a cluster for the customer data compared to the general population (e.g. 5% of persons are assigned to a cluster for the general population, but 15% of the customer data is closest to that cluster's centroid) then that suggests the people in that cluster to be a target audience for the company. On the other hand, the proportion of the data in a cluster being larger in the general population than the customer data (e.g. only 2% of customers closest to a population centroid that captures 6% of the data) suggests that group of persons to be outside of the target demographics.\n",
    "\n",
    "Take a look at the following points in this step:\n",
    "\n",
    "- Compute the proportion of data points in each cluster for the general population and the customer data. Visualizations will be useful here: both for the individual dataset proportions, but also to visualize the ratios in cluster representation between groups. Seaborn's [`countplot()`](https://seaborn.pydata.org/generated/seaborn.countplot.html) or [`barplot()`](https://seaborn.pydata.org/generated/seaborn.barplot.html) function could be handy.\n",
    "  - Recall the analysis you performed in step 1.1.3 of the project, where you separated out certain data points from the dataset if they had more than a specified threshold of missing values. If you found that this group was qualitatively different from the main bulk of the data, you should treat this as an additional data cluster in this analysis. Make sure that you account for the number of data points in this subset, for both the general population and customer datasets, when making your computations!\n",
    "- Which cluster or clusters are overrepresented in the customer dataset compared to the general population? Select at least one such cluster and infer what kind of people might be represented by that cluster. Use the principal component interpretations from step 2.3 or look at additional components to help you make this inference. Alternatively, you can use the `.inverse_transform()` method of the PCA and StandardScaler objects to transform centroids back to the original data space and interpret the retrieved values directly.\n",
    "- Perform a similar investigation for the underrepresented clusters. Which cluster or clusters are underrepresented in the customer dataset compared to the general population, and what kinds of people are typified by these clusters?"
   ]
  },
  {
   "cell_type": "code",
   "execution_count": 76,
   "metadata": {},
   "outputs": [
    {
     "data": {
      "image/png": "[encoded data removed]",
      "text/plain": [
       "<matplotlib.figure.Figure at 0x7f23fb4b8780>"
      ]
     },
     "metadata": {
      "needs_background": "light"
     },
     "output_type": "display_data"
    }
   ],
   "source": [
    "# Compare the proportion of data in each cluster for the customer data to the\n",
    "# proportion of data in each cluster for the general population.\n",
    "\n",
    "plt.figure(1, figsize=(12, 3))\n",
    "plt.subplot(121)\n",
    "sns.countplot(azdias_labels)\n",
    "plt.subplot(122)\n",
    "sns.countplot(customers_labels)\n",
    "plt.show()"
   ]
  },
  {
   "cell_type": "code",
   "execution_count": 77,
   "metadata": {},
   "outputs": [
    {
     "name": "stdout",
     "output_type": "stream",
     "text": [
      "underrepresented:\n",
      " 3   -10.334726\n",
      "1    -9.198094\n",
      "5    -2.940332\n",
      "4    -0.263666\n",
      "6    -0.115598\n",
      "dtype: float64\n",
      "overrepresented:\n",
      " 5   -2.940332\n",
      "4   -0.263666\n",
      "6   -0.115598\n",
      "2    0.264423\n",
      "0    0.690402\n",
      "dtype: float64\n"
     ]
    }
   ],
   "source": [
    "azdias_labels = pd.Series(azdias_labels)\n",
    "customers_labels = pd.Series(customers_labels)\n",
    "\n",
    "azdias_dis = azdias_labels.value_counts()/azdias_labels.shape[0]\n",
    "customers_dis = customers_labels.value_counts()/customers_labels.shape[0]\n",
    "\n",
    "# find which cluster is most different from azdias and customers\n",
    "ac_diff = ((customers_dis - azdias_dis)/ customers_dis).sort_values()\n",
    "print(\"underrepresented:\\n\", ac_diff.head())\n",
    "print(\"overrepresented:\\n\", ac_diff.tail())"
   ]
  },
  {
   "cell_type": "code",
   "execution_count": 78,
   "metadata": {},
   "outputs": [
    {
     "name": "stdout",
     "output_type": "stream",
     "text": [
      "                         0\n",
      "SEMIO_ERL        -1.290003\n",
      "ANREDE_KZ        -1.115823\n",
      "FINANZ_VORSORGER -1.074053\n",
      "SEMIO_KAEM       -1.018554\n",
      "SEMIO_KRIT       -0.975046\n",
      "                      0\n",
      "FINANZ_SPARER  1.147097\n",
      "SEMIO_REL      1.165779\n",
      "SEMIO_SOZ      1.196932\n",
      "SEMIO_FAM      1.357160\n",
      "SEMIO_KULT     1.358367\n"
     ]
    }
   ],
   "source": [
    "# What kinds of people are part of a cluster that is overrepresented in the\n",
    "# customer data compared to the general population?\n",
    "\n",
    "a1 = azdias_model.cluster_centers_[1]\n",
    "a1_inv = pca_75.inverse_transform(a1)\n",
    "a1_fin = ss.inverse_transform(a1_inv)\n",
    "\n",
    "df_a1 = pd.DataFrame(a1_fin, index = azdias_fin.columns)\n",
    "\n",
    "gen_pop_mean = azdias_fin.mean()\n",
    "gen_pop_std = azdias_fin.std()\n",
    "\n",
    "gen_pop_mean = pd.DataFrame(gen_pop_mean, index = azdias_fin.columns)\n",
    "gen_pop_std = pd.DataFrame(gen_pop_std, index = azdias_fin.columns)\n",
    "\n",
    "a1_diff = ((df_a1 - gen_pop_mean) / gen_pop_std).sort_values(by = 0)\n",
    "print(a1_diff.head())\n",
    "print(a1_diff.tail())"
   ]
  },
  {
   "cell_type": "code",
   "execution_count": 79,
   "metadata": {},
   "outputs": [
    {
     "name": "stdout",
     "output_type": "stream",
     "text": [
      "                             0\n",
      "FINANZ_MINIMALIST    -1.349755\n",
      "SEMIO_VERT           -1.015327\n",
      "ALTERSKATEGORIE_GROB -0.966522\n",
      "FINANZ_VORSORGER     -0.856209\n",
      "MOBI_REGIO           -0.665228\n",
      "                           0\n",
      "FINANZ_ANLEGER      1.011636\n",
      "FINANZ_SPARER       1.115604\n",
      "SEMIO_RAT           1.234641\n",
      "FINANZTYP_1.0       1.259559\n",
      "LP_STATUS_FEIN_2.0  1.310463\n"
     ]
    }
   ],
   "source": [
    "# What kinds of people are part of a cluster that is underrepresented in the\n",
    "# customer data compared to the general population?\n",
    "\n",
    "a3 = azdias_model.cluster_centers_[3]\n",
    "a3_inv = pca_75.inverse_transform(a3)\n",
    "a3_fin = ss.inverse_transform(a3_inv)\n",
    "\n",
    "df_a3 = pd.DataFrame(a3_fin, index = azdias_fin.columns)\n",
    "\n",
    "gen_pop_mean = azdias_fin.mean()\n",
    "gen_pop_std = azdias_fin.std()\n",
    "\n",
    "gen_pop_mean = pd.DataFrame(gen_pop_mean, index = azdias_fin.columns)\n",
    "gen_pop_std = pd.DataFrame(gen_pop_std, index = azdias_fin.columns)\n",
    "\n",
    "a3_diff = ((df_a3 - gen_pop_mean) / gen_pop_std).sort_values(by = 0)\n",
    "print(a3_diff.head())\n",
    "print(a3_diff.tail())"
   ]
  },
  {
   "cell_type": "markdown",
   "metadata": {},
   "source": [
    "### Discussion 3.3: Compare Customer Data to Demographics Data\n",
    "\n",
    "(Double-click this cell and replace this text with your own text, reporting findings and conclusions from the clustering analysis. Can we describe segments of the population that are relatively popular with the mail-order company, or relatively unpopular with the company?)\n",
    "\n",
    "I investgate the most overrepresented cluster in my analysis and found people in this cluster represent have much money and income. The people is likely to be in green avantgarde. In the other hand, the most underrepresented cluster people have low income because of high probability to be low-income earners and have high interest rate."
   ]
  },
  {
   "cell_type": "markdown",
   "metadata": {},
   "source": [
    "> Congratulations on making it this far in the project! Before you finish, make sure to check through the entire notebook from top to bottom to make sure that your analysis follows a logical flow and all of your findings are documented in **Discussion** cells. Once you've checked over all of your work, you should export the notebook as an HTML document to submit for evaluation. You can do this from the menu, navigating to **File -> Download as -> HTML (.html)**. You will submit both that document and this notebook for your project submission."
   ]
  },
  {
   "cell_type": "code",
   "execution_count": null,
   "metadata": {},
   "outputs": [],
   "source": []
  }
 ],
 "metadata": {
  "kernelspec": {
   "display_name": "Python 3",
   "language": "python",
   "name": "python3"
  },
  "language_info": {
   "codemirror_mode": {
    "name": "ipython",
    "version": 3
   },
   "file_extension": ".py",
   "mimetype": "text/x-python",
   "name": "python",
   "nbconvert_exporter": "python",
   "pygments_lexer": "ipython3",
   "version": "3.6.3"
  }
 },
 "nbformat": 4,
 "nbformat_minor": 2
}
